{
 "cells": [
  {
   "cell_type": "code",
   "execution_count": null,
   "metadata": {},
   "outputs": [],
   "source": [
    "import sim\n",
    "import time\n",
    "import math\n",
    "import numpy as np\n",
    "from Robot_FW import Robot_FW\n",
    "from inverse_kin import OptimizationFunction\n",
    "\n",
    "clientID = sim.simxStart('127.0.0.1',19999,True,True,5000,5);\n",
    "if clientID!=0:\n",
    "\tprint('Conexão com problema')\t\n",
    "else:\n",
    "\n",
    "\tRobot = Robot_FW(clientID,'rollingJoint')\n",
    "\n",
    "\n",
    "\tres_1, cuboid0Handle=sim.simxGetObjectHandle(clientID,\"Cuboid\",sim.simx_opmode_blocking)\n",
    "\tres_2, sensorHandle = sim.simxGetObjectHandle(clientID,\"sensor_1\",sim.simx_opmode_blocking)\n",
    "\tres_3, dummyHandle1=sim.simxGetObjectHandle(clientID,\"Dummy1\",sim.simx_opmode_blocking)\n",
    "\tres_4, dummyHandle2=sim.simxGetObjectHandle(clientID,\"Dummy2\",sim.simx_opmode_blocking)\n",
    "\n",
    "\tr=sim.simxReadProximitySensor(clientID,sensorHandle,sim.simx_opmode_streaming)\n",
    "\tr=sim.simxReadProximitySensor(clientID,sensorHandle,sim.simx_opmode_buffer)\n",
    "\tRobot.open_grip(True)\n",
    "\tbuffer = bytearray()\n",
    "\tRobot.pick_up(cuboid0Handle,sensorHandle,1)\n",
    "\n",
    "\twhile True:\n",
    "\t\tRobot.put_down(dummyHandle1,1)#Colocar na prateleira de baixo\n",
    "\t\tRobot.velocity(np.array([60,60,60,60])*np.pi/180)\n",
    "\t\tdummy_position = Robot.get_position(dummyHandle1,Robot.joint2)\n",
    "\t\twhile (dummy_position[1]<0.6):\n",
    "\t\t\tdummy_position = Robot.get_position(dummyHandle1,Robot.joint2)\n",
    "\t\tRobot.pick_up(cuboid0Handle,sensorHandle,2)#Pegar da prateleira de baixo\n",
    "\t\tdummy_position = Robot.get_position(dummyHandle1,Robot.joint2)\n",
    "\t\tRobot.velocity(np.array([60,60,60,60])*np.pi/180)\n",
    "\t\twhile (dummy_position[1]<0.6):\n",
    "\t\t\tdummy_position = Robot.get_position(dummyHandle1,Robot.joint2)\n",
    "\t\tRobot.put_down(dummyHandle2,2)#Colocar na prateleira de cima\n",
    "\t\tdummy_position = Robot.get_position(dummyHandle1,Robot.joint2)\n",
    "\t\tRobot.velocity(np.array([60,60,60,60])*np.pi/180)\n",
    "\t\twhile (dummy_position[1]<0.6):\n",
    "\t\t\tdummy_position = Robot.get_position(dummyHandle1,Robot.joint2)\n",
    "\t\tRobot.pick_up(cuboid0Handle,sensorHandle,3)#Pegar da prateleira de cima\n",
    "\t\tdummy_position = Robot.get_position(dummyHandle1,Robot.joint2)\n",
    "\t\tRobot.velocity(np.array([60,60,60,60])*np.pi/180)\n",
    "\t\twhile (dummy_position[1]<0.6):\n",
    "\t\t\tdummy_position = Robot.get_position(dummyHandle1,Robot.joint2)\n",
    "\n"
   ]
  },
  {
   "cell_type": "code",
   "execution_count": null,
   "metadata": {},
   "outputs": [],
   "source": []
  },
  {
   "cell_type": "code",
   "execution_count": 1,
   "metadata": {},
   "outputs": [],
   "source": []
  },
  {
   "cell_type": "code",
   "execution_count": null,
   "metadata": {},
   "outputs": [],
   "source": []
  },
  {
   "cell_type": "code",
   "execution_count": null,
   "metadata": {},
   "outputs": [],
   "source": []
  }
 ],
 "metadata": {
  "kernelspec": {
   "display_name": "Python 3",
   "language": "python",
   "name": "python3"
  },
  "language_info": {
   "codemirror_mode": {
    "name": "ipython",
    "version": 3
   },
   "file_extension": ".py",
   "mimetype": "text/x-python",
   "name": "python",
   "nbconvert_exporter": "python",
   "pygments_lexer": "ipython3",
   "version": "3.8.5"
  }
 },
 "nbformat": 4,
 "nbformat_minor": 4
}
